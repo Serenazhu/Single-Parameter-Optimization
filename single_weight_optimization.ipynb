{
 "cells": [
  {
   "cell_type": "code",
   "execution_count": null,
   "id": "b503027e-eb35-4fb5-a62b-9ca8e639fe98",
   "metadata": {},
   "outputs": [],
   "source": [
    "'''\n",
    "Input data point:\n",
    "    x = 3\n",
    "Random weight init:\n",
    "    w = 4\n",
    "Target:\n",
    "    y = 15\n",
    "'''"
   ]
  },
  {
   "cell_type": "code",
   "execution_count": 53,
   "id": "67510fdf-a6ed-49b5-9748-ee27c617c62e",
   "metadata": {},
   "outputs": [],
   "source": [
    "# init\n",
    "x = 3\n",
    "w = 4\n",
    "y = 15"
   ]
  },
  {
   "cell_type": "code",
   "execution_count": 54,
   "id": "821db53e-b38e-4a7b-a357-6852e9da8f51",
   "metadata": {},
   "outputs": [
    {
     "data": {
      "text/plain": [
       "12"
      ]
     },
     "execution_count": 54,
     "metadata": {},
     "output_type": "execute_result"
    }
   ],
   "source": [
    "# Forward Pass\n",
    "pred = x * w\n",
    "pred"
   ]
  },
  {
   "cell_type": "code",
   "execution_count": 55,
   "id": "fe7e894e-5728-41cf-8361-8defa0a94e3d",
   "metadata": {},
   "outputs": [
    {
     "data": {
      "text/plain": [
       "9"
      ]
     },
     "execution_count": 55,
     "metadata": {},
     "output_type": "execute_result"
    }
   ],
   "source": [
    "# Loss function: mean squared error (MSE)\n",
    "L = (y-pred)**2\n",
    "L"
   ]
  },
  {
   "cell_type": "code",
   "execution_count": 56,
   "id": "9ae1d791-aabb-4ef4-bb0b-466d357340d2",
   "metadata": {},
   "outputs": [],
   "source": [
    "# Calculate gradient of the loss with respect to pred\n",
    "dL_dpred = -2 * (y-pred)\n",
    "# Gradient of pred with respect to w\n",
    "dpred_dw = x\n",
    "# Chain rule: the gradient of the loss with respect to w\n",
    "dL_dw = dL_dpred * dpred_dw"
   ]
  },
  {
   "cell_type": "code",
   "execution_count": 57,
   "id": "e7c22fc9-66f8-4c53-a41c-79a80a506063",
   "metadata": {},
   "outputs": [
    {
     "data": {
      "text/plain": [
       "-18"
      ]
     },
     "execution_count": 57,
     "metadata": {},
     "output_type": "execute_result"
    }
   ],
   "source": [
    "dL_dw"
   ]
  },
  {
   "cell_type": "code",
   "execution_count": 58,
   "id": "cff8edd5-5731-4b27-a67b-802cac2f1eff",
   "metadata": {},
   "outputs": [],
   "source": [
    "# Update the weight using gradient descent\n",
    "w = w - 0.01 * dL_dw"
   ]
  },
  {
   "cell_type": "code",
   "execution_count": 59,
   "id": "537c949d-8406-4f24-9a8e-96e9e6f4c37a",
   "metadata": {},
   "outputs": [
    {
     "data": {
      "text/plain": [
       "4.18"
      ]
     },
     "execution_count": 59,
     "metadata": {},
     "output_type": "execute_result"
    }
   ],
   "source": [
    "# single optimization step\n",
    "w"
   ]
  },
  {
   "cell_type": "code",
   "execution_count": 60,
   "id": "b9b93026-43c9-407d-8c31-0349e57c0bce",
   "metadata": {
    "scrolled": true
   },
   "outputs": [
    {
     "name": "stdout",
     "output_type": "stream",
     "text": [
      "iteration 1:\n",
      "loss:81\n",
      "iteration 2:\n",
      "loss:54.4644\n",
      "iteration 3:\n",
      "loss:36.621862560000004\n",
      "iteration 4:\n",
      "loss:24.62454038534399\n",
      "iteration 5:\n",
      "loss:16.5575409551053\n",
      "iteration 6:\n",
      "loss:11.1332905382128\n",
      "iteration 7:\n",
      "loss:7.48602455789429\n",
      "iteration 8:\n",
      "loss:5.033602912728108\n",
      "iteration 9:\n",
      "loss:3.384594598518379\n",
      "iteration 10:\n",
      "loss:2.275801408043762\n",
      "iteration 11:\n",
      "loss:1.5302488667686258\n",
      "iteration 12:\n",
      "loss:1.028939338015226\n",
      "iteration 13:\n",
      "loss:0.6918588108814366\n",
      "iteration 14:\n",
      "loss:0.4652058644366798\n",
      "iteration 15:\n",
      "loss:0.312804423247222\n",
      "iteration 16:\n",
      "loss:0.21032969419143124\n",
      "iteration 17:\n",
      "loss:0.14142568637432018\n",
      "iteration 18:\n",
      "loss:0.09509463151809307\n",
      "iteration 19:\n",
      "loss:0.06394163023276644\n",
      "iteration 20:\n",
      "loss:0.042994352168512245\n"
     ]
    }
   ],
   "source": [
    "# init\n",
    "x = 3\n",
    "w = 2\n",
    "y = 15\n",
    "# Training Loop\n",
    "for i in range(20):\n",
    "    pred = x * w\n",
    "    L = (y-pred)**2\n",
    "    print(\"iteration \" + str(i+1) + \":\")\n",
    "    print(\"loss:\" + str(L))\n",
    "    dL_dpred = -2 * (y-pred)\n",
    "    dpred_dw = x\n",
    "    dL_dw = dL_dpred * dpred_dw\n",
    "    w = w - 0.01 * dL_dw"
   ]
  },
  {
   "cell_type": "code",
   "execution_count": 61,
   "id": "37002fcc-dfb2-4637-a675-36bedaf4c28d",
   "metadata": {},
   "outputs": [
    {
     "name": "stdout",
     "output_type": "stream",
     "text": [
      "4.9433241160456065\n"
     ]
    }
   ],
   "source": [
    "print(w)"
   ]
  },
  {
   "cell_type": "code",
   "execution_count": null,
   "id": "96f31503-333a-47a2-b3eb-e0a0d7be308a",
   "metadata": {},
   "outputs": [],
   "source": []
  }
 ],
 "metadata": {
  "kernelspec": {
   "display_name": "Python 3 (ipykernel)",
   "language": "python",
   "name": "python3"
  },
  "language_info": {
   "codemirror_mode": {
    "name": "ipython",
    "version": 3
   },
   "file_extension": ".py",
   "mimetype": "text/x-python",
   "name": "python",
   "nbconvert_exporter": "python",
   "pygments_lexer": "ipython3",
   "version": "3.11.5"
  }
 },
 "nbformat": 4,
 "nbformat_minor": 5
}
